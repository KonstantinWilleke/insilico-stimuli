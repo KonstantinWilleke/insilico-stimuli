{
 "cells": [
  {
   "cell_type": "code",
   "execution_count": 2,
   "metadata": {},
   "outputs": [
    {
     "name": "stdout",
     "output_type": "stream",
     "text": [
      "Connecting pawelp@134.2.168.16:3306\n"
     ]
    }
   ],
   "source": [
    "%load_ext autoreload\n",
    "%autoreload 2\n",
    "\n",
    "import datajoint as dj\n",
    "dj.config[\"enable_python_native_blobs\"] = True\n",
    "dj.config['nnfabrik.schema_name'] = \"nnfabrik_v1_tuning\"\n",
    "schema = dj.schema(\"nnfabrik_v1_tuning\")\n",
    "\n",
    "from nndichromacy.tables.from_mei import TrainedEnsembleModel\n",
    "from nndichromacy.tables.from_mei import MEISelector\n",
    "\n",
    "from nnfabrik.main import *\n",
    "\n",
    "from insilico_stimuli.tables.templates import ExperimentPerUnitTemplate\n",
    "from insilico_stimuli.tables.main import ExperimentMethod, InsilicoStimuliSet\n",
    "\n",
    "from insilico_stimuli.parameters import *\n"
   ]
  },
  {
   "cell_type": "code",
   "execution_count": 11,
   "metadata": {},
   "outputs": [
    {
     "name": "stderr",
     "output_type": "stream",
     "text": [
      "/src/nnidentify/lib/insilico-stimuli/insilico_stimuli/tables/main.py:146: UserWarning: Corresponding entry found. Skipping...\n",
      "  warnings.warn(\"Corresponding entry found. Skipping...\")\n"
     ]
    }
   ],
   "source": [
    "method_fn = 'insilico_stimuli.optimizers.bruteforce'\n",
    "method_config = dict(batch_size=150)\n",
    "\n",
    "method = ExperimentMethod().add_method(method_fn, method_config, 'bruteforce demo', skip_duplicates=True)\n",
    "method_hash = method['method_hash']"
   ]
  },
  {
   "cell_type": "code",
   "execution_count": 12,
   "metadata": {},
   "outputs": [],
   "source": [
    "stimuli_fn = 'insilico_stimuli.stimuli.Gabor'\n",
    "stimuli_config = {\n",
    "    \"canvas_size\": {\n",
    "        \"args\": [36, 64]\n",
    "    },\n",
    "    \"theta\": {\n",
    "        \"path\": \"insilico_stimuli.parameters.FiniteParameter\",\n",
    "        \"args\": [[0, np.pi/2, np.pi]],\n",
    "    },\n",
    "    \"sigma\": {\n",
    "        \"path\": \"insilico_stimuli.parameters.FiniteParameter\",\n",
    "        \"args\": [[5, 6, 7]],\n",
    "    },\n",
    "    \"Lambda\": {\n",
    "        \"path\": \"insilico_stimuli.parameters.FiniteParameter\",\n",
    "        \"args\": [[9, 9.5, 10]],\n",
    "    },\n",
    "    \"psi\": {\n",
    "        \"path\": \"insilico_stimuli.parameters.FiniteParameter\",\n",
    "        \"args\": [[0, np.pi/2, np.pi]],\n",
    "    },\n",
    "    \"gamma\": {\n",
    "        \"path\": \"insilico_stimuli.parameters.FiniteParameter\",\n",
    "        \"args\": [[1]],\n",
    "    },\n",
    "    \"center\": {\n",
    "        \"path\": \"insilico_stimuli.parameters.FiniteParameter\",\n",
    "        \"args\": [[[0, 0]]]\n",
    "    },\n",
    "}"
   ]
  },
  {
   "cell_type": "code",
   "execution_count": 13,
   "metadata": {},
   "outputs": [
    {
     "name": "stderr",
     "output_type": "stream",
     "text": [
      "/src/nnidentify/lib/insilico-stimuli/insilico_stimuli/tables/main.py:51: UserWarning: Corresponding entry found. Skipping...\n",
      "  warnings.warn(\"Corresponding entry found. Skipping...\")\n"
     ]
    }
   ],
   "source": [
    "stimuli_set = InsilicoStimuliSet().add_set(stimuli_fn, stimuli_config, 'Gabor Bruteforce Demo Stimulus', skip_duplicates=True)\n",
    "stimulus_hash = stimuli_set['stimulus_hash']"
   ]
  },
  {
   "cell_type": "code",
   "execution_count": 14,
   "metadata": {},
   "outputs": [],
   "source": [
    "@schema\n",
    "class DemoGaborStimuli(ExperimentPerUnitTemplate, dj.Computed):\n",
    "    trained_model_table = TrainedEnsembleModel\n",
    "    unit_table = MEISelector\n",
    "    method_table = ExperimentMethod\n"
   ]
  },
  {
   "cell_type": "code",
   "execution_count": 15,
   "metadata": {},
   "outputs": [],
   "source": [
    "selection = dict(\n",
    "    ensemble_hash='177e89418565118975d69f513c91d3ef',\n",
    "    dataset_hash='0d2f4b989e3cf37664080300ffe3f732',\n",
    "    stimulus_hash=stimulus_hash,\n",
    "    method_hash=method_hash,\n",
    "    unit_id=1,\n",
    "    seed=1000\n",
    ")"
   ]
  },
  {
   "cell_type": "code",
   "execution_count": 16,
   "metadata": {},
   "outputs": [
    {
     "name": "stdout",
     "output_type": "stream",
     "text": [
      "/data/mouse/toliaslab/static/static22564-2-13-preproc0 exists already. Not unpacking /data/mouse/toliaslab/static/static22564-2-13-preproc0.zip\n",
      "/data/mouse/toliaslab/static/static22564-2-13-preproc0 exists already. Not unpacking /data/mouse/toliaslab/static/static22564-2-13-preproc0.zip\n",
      "/data/mouse/toliaslab/static/static22564-2-13-preproc0 exists already. Not unpacking /data/mouse/toliaslab/static/static22564-2-13-preproc0.zip\n",
      "/data/mouse/toliaslab/static/static22564-2-13-preproc0 exists already. Not unpacking /data/mouse/toliaslab/static/static22564-2-13-preproc0.zip\n",
      "/data/mouse/toliaslab/static/static22564-2-13-preproc0 exists already. Not unpacking /data/mouse/toliaslab/static/static22564-2-13-preproc0.zip\n"
     ]
    },
    {
     "name": "stderr",
     "output_type": "stream",
     "text": [
      "1it [00:00,  4.23it/s]\n"
     ]
    }
   ],
   "source": [
    "DemoGaborStimuli.populate(selection)"
   ]
  },
  {
   "cell_type": "code",
   "execution_count": 18,
   "metadata": {},
   "outputs": [
    {
     "data": {
      "text/html": [
       "\n",
       "        \n",
       "        <style type=\"text/css\">\n",
       "            .Relation{\n",
       "                border-collapse:collapse;\n",
       "            }\n",
       "            .Relation th{\n",
       "                background: #A0A0A0; color: #ffffff; padding:4px; border:#f0e0e0 1px solid;\n",
       "                font-weight: normal; font-family: monospace; font-size: 100%;\n",
       "            }\n",
       "            .Relation td{\n",
       "                padding:4px; border:#f0e0e0 1px solid; font-size:100%;\n",
       "            }\n",
       "            .Relation tr:nth-child(odd){\n",
       "                background: #ffffff;\n",
       "            }\n",
       "            .Relation tr:nth-child(even){\n",
       "                background: #f3f1ff;\n",
       "            }\n",
       "            /* Tooltip container */\n",
       "            .djtooltip {\n",
       "            }\n",
       "            /* Tooltip text */\n",
       "            .djtooltip .djtooltiptext {\n",
       "                visibility: hidden;\n",
       "                width: 120px;\n",
       "                background-color: black;\n",
       "                color: #fff;\n",
       "                text-align: center;\n",
       "                padding: 5px 0;\n",
       "                border-radius: 6px;\n",
       "                /* Position the tooltip text - see examples below! */\n",
       "                position: absolute;\n",
       "                z-index: 1;\n",
       "            }\n",
       "            #primary {\n",
       "                font-weight: bold;\n",
       "                color: black;\n",
       "            }\n",
       "\n",
       "            #nonprimary {\n",
       "                font-weight: normal;\n",
       "                color: white;\n",
       "            }\n",
       "\n",
       "            /* Show the tooltip text when you mouse over the tooltip container */\n",
       "            .djtooltip:hover .djtooltiptext {\n",
       "                visibility: visible;\n",
       "            }\n",
       "        </style>\n",
       "        \n",
       "        <b>contains optimal stimuli</b>\n",
       "            <div style=\"max-height:1000px;max-width:1500px;overflow:auto;\">\n",
       "            <table border=\"1\" class=\"Relation\">\n",
       "                <thead> <tr style=\"text-align: right;\"> <th> <div class=\"djtooltip\">\n",
       "                                <p id=\"primary\">method_fn</p>\n",
       "                                <span class=\"djtooltiptext\">name of the set function</span>\n",
       "                            </div></th><th><div class=\"djtooltip\">\n",
       "                                <p id=\"primary\">method_hash</p>\n",
       "                                <span class=\"djtooltiptext\">hash of the set config</span>\n",
       "                            </div></th><th><div class=\"djtooltip\">\n",
       "                                <p id=\"primary\">stimulus_fn</p>\n",
       "                                <span class=\"djtooltiptext\">name of the set function</span>\n",
       "                            </div></th><th><div class=\"djtooltip\">\n",
       "                                <p id=\"primary\">stimulus_hash</p>\n",
       "                                <span class=\"djtooltiptext\">hash of the set config</span>\n",
       "                            </div></th><th><div class=\"djtooltip\">\n",
       "                                <p id=\"primary\">dataset_fn</p>\n",
       "                                <span class=\"djtooltiptext\">name of the dataset loader function</span>\n",
       "                            </div></th><th><div class=\"djtooltip\">\n",
       "                                <p id=\"primary\">dataset_hash</p>\n",
       "                                <span class=\"djtooltiptext\">hash of the configuration object</span>\n",
       "                            </div></th><th><div class=\"djtooltip\">\n",
       "                                <p id=\"primary\">ensemble_hash</p>\n",
       "                                <span class=\"djtooltiptext\">the hash of the ensemble</span>\n",
       "                            </div></th><th><div class=\"djtooltip\">\n",
       "                                <p id=\"primary\">unit_id</p>\n",
       "                                <span class=\"djtooltiptext\">unique neuron identifier</span>\n",
       "                            </div></th><th><div class=\"djtooltip\">\n",
       "                                <p id=\"primary\">data_key</p>\n",
       "                                <span class=\"djtooltiptext\">unique session identifier</span>\n",
       "                            </div></th><th><div class=\"djtooltip\">\n",
       "                                <p id=\"primary\">seed</p>\n",
       "                                <span class=\"djtooltiptext\">experiment seed</span>\n",
       "                            </div></th><th><div class=\"djtooltip\">\n",
       "                                <p id=\"nonprimary\">output</p>\n",
       "                                <span class=\"djtooltiptext\"></span>\n",
       "                            </div></th><th><div class=\"djtooltip\">\n",
       "                                <p id=\"nonprimary\">score</p>\n",
       "                                <span class=\"djtooltiptext\"></span>\n",
       "                            </div> </th> </tr> </thead>\n",
       "                <tbody> <tr>  </tr> </tbody>\n",
       "            </table>\n",
       "            \n",
       "            <p>Total: 0</p></div>\n",
       "            "
      ],
      "text/plain": [
       "*method_fn    *method_hash   *stimulus_fn   *stimulus_hash *dataset_fn    *dataset_hash  *ensemble_hash *unit_id    *data_key    *seed    output     score    \n",
       "+-----------+ +------------+ +------------+ +------------+ +------------+ +------------+ +------------+ +---------+ +----------+ +------+ +--------+ +-------+\n",
       "\n",
       " (Total: 0)"
      ]
     },
     "execution_count": 18,
     "metadata": {},
     "output_type": "execute_result"
    }
   ],
   "source": [
    "DemoGaborStimuli()"
   ]
  },
  {
   "cell_type": "code",
   "execution_count": null,
   "metadata": {},
   "outputs": [],
   "source": []
  }
 ],
 "metadata": {
  "kernelspec": {
   "display_name": "Python 3",
   "language": "python",
   "name": "python3"
  },
  "language_info": {
   "codemirror_mode": {
    "name": "ipython",
    "version": 3
   },
   "file_extension": ".py",
   "mimetype": "text/x-python",
   "name": "python",
   "nbconvert_exporter": "python",
   "pygments_lexer": "ipython3",
   "version": "3.8.0"
  }
 },
 "nbformat": 4,
 "nbformat_minor": 4
}